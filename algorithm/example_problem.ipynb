{
 "cells": [
  {
   "cell_type": "code",
   "execution_count": 2,
   "metadata": {},
   "outputs": [],
   "source": [
    "import numpy as np\n",
    "%matplotlib inline\n",
    "import matplotlib.pyplot as plt\n",
    "import pandas as pd\n",
    "from astropy import units as u"
   ]
  },
  {
   "cell_type": "code",
   "execution_count": 44,
   "metadata": {},
   "outputs": [],
   "source": [
    "sol_to_earth = 332946.078\n",
    "AU = 1.496e+13 #cm\n",
    "M_sun = 1.989e+33 #g\n",
    "G = 6.6743* 10**(-11) #N⋅m2/kg2\n",
    "\n",
    "m_pl = 2.7932451e-8 * M_sun / 10**3 # kg, Mass of each planetesimal\n",
    "m_emb = 2.7932451e-7 * M_sun / 10**3  # solMass, Mass of each planetary embryo\n",
    "r_emb = 2.39e-5 * AU * 10**(-2) #m, radius of embryo\n",
    "r_pl = 1.11e-5 * AU * 10**(-2) #m, radius of planetesimal\n",
    "m_min = 0.5 * m_pl"
   ]
  },
  {
   "cell_type": "code",
   "execution_count": 36,
   "metadata": {},
   "outputs": [],
   "source": [
    "r = 2 *AU*10**(-2)\n",
    "v_rel = np.sqrt((G*M_sun/10**3)/r) #m/s\n",
    "theta = np.pi/6\n",
    "M_t = m_emb\n",
    "M_p = m_pl\n",
    "R_t = r_emb\n",
    "R_p = r_pl\n",
    "M_tot = M_t + M_p\n",
    "R_tot = R_t + R_p\n",
    "b = R_tot * np.sin(theta)\n",
    "x_rel = R_tot * np.cos(theta)\n",
    "v_esc = np.sqrt(2*G*M_tot/R_tot)\n",
    "v_i = np.sqrt(v_rel**2 - 2*G*M_tot*(1/x_rel - 1/R_tot))"
   ]
  },
  {
   "cell_type": "markdown",
   "metadata": {},
   "source": [
    "First step, compute vi/vesc and b/b_crit"
   ]
  },
  {
   "cell_type": "code",
   "execution_count": 37,
   "metadata": {},
   "outputs": [
    {
     "name": "stdout",
     "output_type": "stream",
     "text": [
      "v_i/v_esc =  5.3219443841714975\n",
      "b/b_crit =  0.7322175732217572\n"
     ]
    }
   ],
   "source": [
    "print(\"v_i/v_esc = \", v_i/v_esc)\n",
    "print(\"b/b_crit = \", b/R_t)"
   ]
  },
  {
   "cell_type": "markdown",
   "metadata": {},
   "source": [
    "Now let's compute mass of largest remnant."
   ]
  },
  {
   "cell_type": "code",
   "execution_count": 39,
   "metadata": {},
   "outputs": [],
   "source": [
    "Cstar = 1.8\n",
    "rho_1 = 1000\n",
    "R_1 = (M_tot/(4/3*np.pi*rho_1))**(1/3)\n",
    "mu = (M_t*M_p)/(M_tot)\n",
    "gamma = M_p/M_t\n",
    "l = R_tot*(1-np.sin(theta))\n",
    "alpha = (3*R_p*l**2 - l**3)/(4*R_p**3)\n",
    "mu_alpha = alpha*M_p*M_t/(M_t + alpha*M_p)\n",
    "Q = (mu * v_i**2)/(2*M_tot)\n",
    "Q_0 = 0.8 * Cstar * np.pi * rho_1 * G * R_1**2\n",
    "Q_star = Q_0 * ((1+gamma)**2/(4*gamma)) * (mu/mu_alpha)**(3/2)"
   ]
  },
  {
   "cell_type": "code",
   "execution_count": 40,
   "metadata": {},
   "outputs": [
    {
     "data": {
      "text/plain": [
       "0.608818340519018"
      ]
     },
     "execution_count": 40,
     "metadata": {},
     "output_type": "execute_result"
    }
   ],
   "source": [
    "Q/Q_star"
   ]
  },
  {
   "cell_type": "code",
   "execution_count": 45,
   "metadata": {},
   "outputs": [
    {
     "name": "stdout",
     "output_type": "stream",
     "text": [
      "10.815930736980095\n"
     ]
    }
   ],
   "source": [
    "M_lr = 0.1 * M_tot * (Q/(1.8*Q_star))**(-3/2)\n",
    "M_r = M_tot - M_lr\n",
    "n_frag = M_r/m_min\n",
    "print(n_frag)"
   ]
  },
  {
   "cell_type": "code",
   "execution_count": null,
   "metadata": {},
   "outputs": [],
   "source": []
  }
 ],
 "metadata": {
  "kernelspec": {
   "display_name": "codeastro",
   "language": "python",
   "name": "python3"
  },
  "language_info": {
   "codemirror_mode": {
    "name": "ipython",
    "version": 3
   },
   "file_extension": ".py",
   "mimetype": "text/x-python",
   "name": "python",
   "nbconvert_exporter": "python",
   "pygments_lexer": "ipython3",
   "version": "3.10.14"
  }
 },
 "nbformat": 4,
 "nbformat_minor": 2
}
